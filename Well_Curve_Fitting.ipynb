{
  "nbformat": 4,
  "nbformat_minor": 0,
  "metadata": {
    "anaconda-cloud": {},
    "kernelspec": {
      "display_name": "Python [conda env:binder]",
      "language": "python",
      "name": "conda-env-binder-py"
    },
    "language_info": {
      "codemirror_mode": {
        "name": "ipython",
        "version": 2
      },
      "file_extension": ".py",
      "mimetype": "text/x-python",
      "name": "python",
      "nbconvert_exporter": "python",
      "pygments_lexer": "ipython2",
      "version": "2.7.11"
    },
    "colab": {
      "name": "Well Curve Fitting.ipynb",
      "provenance": [],
      "collapsed_sections": [
        "SxYsRh3nzfke",
        "zutCefhsTDqM",
        "StawzcMATLKT"
      ],
      "toc_visible": true
    }
  },
  "cells": [
    {
      "cell_type": "markdown",
      "metadata": {
        "id": "SxYsRh3nzfke"
      },
      "source": [
        "# Well Decline Curve Fitting"
      ]
    },
    {
      "cell_type": "markdown",
      "metadata": {
        "id": "FpLRqGGfzfkf"
      },
      "source": [
        "First, let's import the necessary libraries"
      ]
    },
    {
      "cell_type": "code",
      "metadata": {
        "id": "NSdaPEAgzfkf"
      },
      "source": [
        "from scipy.optimize import curve_fit\n",
        "import pandas as pd\n",
        "import numpy as np\n",
        "import matplotlib.pyplot as plt\n",
        "import math\n",
        "import os\n",
        "%matplotlib inline"
      ],
      "execution_count": 4,
      "outputs": []
    },
    {
      "cell_type": "markdown",
      "metadata": {
        "id": "koXORgXyzfkf"
      },
      "source": [
        "Let's define three curve functions that we can pass into ``curve_fit``:\n",
        "``exponential``, ``hyperbolic``, and ``harmonic``"
      ]
    },
    {
      "cell_type": "code",
      "metadata": {
        "id": "I14T01Aszfkf"
      },
      "source": [
        "def decline_curve(curve_type, q_i):\n",
        "    if curve_type == \"exponential\":\n",
        "        def exponential_decline(T, a):\n",
        "            return q_i*((np.exp(-a*T)))\n",
        "        return exponential_decline\n",
        "    \n",
        "    elif curve_type == \"hyperbolic\":\n",
        "        def hyperbolic_decline(T, a_i, b):\n",
        "            return q_i/np.power((1+b*a_i*T), 1./b)\n",
        "        return hyperbolic_decline\n",
        "    \n",
        "    elif curve_type == \"harmonic\":\n",
        "        def parabolic_decline(T, a_i):\n",
        "            return q_i/(1+a_i*T)\n",
        "        return parabolic_decline\n",
        "    \n",
        "    else:\n",
        "        raise \"I don't know this decline curve!\"\n",
        "\n",
        "def L2_norm(pred, actual):\n",
        "    return np.sum(np.power(np.subtract(pred, actual), 2))"
      ],
      "execution_count": 18,
      "outputs": []
    },
    {
      "cell_type": "markdown",
      "metadata": {
        "id": "zutCefhsTDqM"
      },
      "source": [
        "# Production Estimation for a Single Well"
      ]
    },
    {
      "cell_type": "code",
      "metadata": {
        "id": "DsNG8-Juzfkf",
        "colab": {
          "base_uri": "https://localhost:8080/",
          "height": 343
        },
        "outputId": "b047b676-f26a-41f4-bff9-98cf89c52683"
      },
      "source": [
        "df = pd.read_csv(r'well production.csv')\n",
        "Q = df.loc[4][3:15] # oil prod\n",
        "# Convert elements to floats\n",
        "T = [float(x) for x in range(0, 12, 1)] # months: [1.0, 2.0, 3.0, 4.0, 5.0, 6.0, 7.0, 8.0, 9.0, 10.0, 11.0, 12.0]\n",
        "Q = [float(x) for x in Q]\n",
        "df.head()"
      ],
      "execution_count": null,
      "outputs": [
        {
          "output_type": "execute_result",
          "data": {
            "text/html": [
              "<div>\n",
              "<style scoped>\n",
              "    .dataframe tbody tr th:only-of-type {\n",
              "        vertical-align: middle;\n",
              "    }\n",
              "\n",
              "    .dataframe tbody tr th {\n",
              "        vertical-align: top;\n",
              "    }\n",
              "\n",
              "    .dataframe thead th {\n",
              "        text-align: right;\n",
              "    }\n",
              "</style>\n",
              "<table border=\"1\" class=\"dataframe\">\n",
              "  <thead>\n",
              "    <tr style=\"text-align: right;\">\n",
              "      <th></th>\n",
              "      <th>Unnamed: 0</th>\n",
              "      <th>well name</th>\n",
              "      <th>average pressure (Pa)</th>\n",
              "      <th>oil 1</th>\n",
              "      <th>oil 2</th>\n",
              "      <th>oil 3</th>\n",
              "      <th>oil 4</th>\n",
              "      <th>oil 5</th>\n",
              "      <th>oil 6</th>\n",
              "      <th>oil 7</th>\n",
              "      <th>oil 8</th>\n",
              "      <th>oil 9</th>\n",
              "      <th>oil 10</th>\n",
              "      <th>oil 11</th>\n",
              "      <th>oil 12</th>\n",
              "      <th>water 1</th>\n",
              "      <th>water 2</th>\n",
              "      <th>water 3</th>\n",
              "      <th>water 4</th>\n",
              "      <th>water 5</th>\n",
              "      <th>water 6</th>\n",
              "      <th>water 7</th>\n",
              "      <th>water 8</th>\n",
              "      <th>water 9</th>\n",
              "      <th>water 10</th>\n",
              "      <th>water 11</th>\n",
              "      <th>water 12</th>\n",
              "    </tr>\n",
              "  </thead>\n",
              "  <tbody>\n",
              "    <tr>\n",
              "      <th>0</th>\n",
              "      <td>0</td>\n",
              "      <td>Tarragon 4-119H</td>\n",
              "      <td>26180969</td>\n",
              "      <td>10809.0</td>\n",
              "      <td>10108.0</td>\n",
              "      <td>9352.0</td>\n",
              "      <td>8626.0</td>\n",
              "      <td>7856.0</td>\n",
              "      <td>7137.0</td>\n",
              "      <td>6430.0</td>\n",
              "      <td>5678.0</td>\n",
              "      <td>4922.0</td>\n",
              "      <td>4205.0</td>\n",
              "      <td>3477.0</td>\n",
              "      <td>2724.0</td>\n",
              "      <td>1853.0</td>\n",
              "      <td>1720.0</td>\n",
              "      <td>1600.0</td>\n",
              "      <td>1481.0</td>\n",
              "      <td>1367.0</td>\n",
              "      <td>1237.0</td>\n",
              "      <td>1069.0</td>\n",
              "      <td>982.0</td>\n",
              "      <td>857.0</td>\n",
              "      <td>733.0</td>\n",
              "      <td>593.0</td>\n",
              "      <td>472.0</td>\n",
              "    </tr>\n",
              "    <tr>\n",
              "      <th>1</th>\n",
              "      <td>1</td>\n",
              "      <td>Fennel 10-129H</td>\n",
              "      <td>36433680</td>\n",
              "      <td>2049.0</td>\n",
              "      <td>1932.0</td>\n",
              "      <td>1784.0</td>\n",
              "      <td>1649.0</td>\n",
              "      <td>1499.0</td>\n",
              "      <td>1364.0</td>\n",
              "      <td>1226.0</td>\n",
              "      <td>1093.0</td>\n",
              "      <td>969.0</td>\n",
              "      <td>804.0</td>\n",
              "      <td>689.0</td>\n",
              "      <td>542.0</td>\n",
              "      <td>297.0</td>\n",
              "      <td>256.0</td>\n",
              "      <td>254.0</td>\n",
              "      <td>210.0</td>\n",
              "      <td>205.0</td>\n",
              "      <td>200.0</td>\n",
              "      <td>157.0</td>\n",
              "      <td>148.0</td>\n",
              "      <td>136.0</td>\n",
              "      <td>97.0</td>\n",
              "      <td>91.0</td>\n",
              "      <td>87.0</td>\n",
              "    </tr>\n",
              "    <tr>\n",
              "      <th>2</th>\n",
              "      <td>2</td>\n",
              "      <td>Federal 14-113H</td>\n",
              "      <td>36642888</td>\n",
              "      <td>11699.0</td>\n",
              "      <td>10905.0</td>\n",
              "      <td>10149.0</td>\n",
              "      <td>9365.0</td>\n",
              "      <td>8521.0</td>\n",
              "      <td>7732.0</td>\n",
              "      <td>6919.0</td>\n",
              "      <td>6124.0</td>\n",
              "      <td>5338.0</td>\n",
              "      <td>4536.0</td>\n",
              "      <td>3781.0</td>\n",
              "      <td>2954.0</td>\n",
              "      <td>827.0</td>\n",
              "      <td>762.0</td>\n",
              "      <td>720.0</td>\n",
              "      <td>661.0</td>\n",
              "      <td>617.0</td>\n",
              "      <td>541.0</td>\n",
              "      <td>466.0</td>\n",
              "      <td>435.0</td>\n",
              "      <td>394.0</td>\n",
              "      <td>340.0</td>\n",
              "      <td>266.0</td>\n",
              "      <td>213.0</td>\n",
              "    </tr>\n",
              "    <tr>\n",
              "      <th>3</th>\n",
              "      <td>3</td>\n",
              "      <td>King 7-184H</td>\n",
              "      <td>30429506</td>\n",
              "      <td>5980.0</td>\n",
              "      <td>5580.0</td>\n",
              "      <td>5176.0</td>\n",
              "      <td>4789.0</td>\n",
              "      <td>4405.0</td>\n",
              "      <td>3978.0</td>\n",
              "      <td>3581.0</td>\n",
              "      <td>3159.0</td>\n",
              "      <td>2735.0</td>\n",
              "      <td>2338.0</td>\n",
              "      <td>1914.0</td>\n",
              "      <td>1536.0</td>\n",
              "      <td>608.0</td>\n",
              "      <td>560.0</td>\n",
              "      <td>502.0</td>\n",
              "      <td>471.0</td>\n",
              "      <td>453.0</td>\n",
              "      <td>417.0</td>\n",
              "      <td>346.0</td>\n",
              "      <td>343.0</td>\n",
              "      <td>275.0</td>\n",
              "      <td>231.0</td>\n",
              "      <td>238.0</td>\n",
              "      <td>164.0</td>\n",
              "    </tr>\n",
              "    <tr>\n",
              "      <th>4</th>\n",
              "      <td>4</td>\n",
              "      <td>Sundae 1-129H</td>\n",
              "      <td>42591950</td>\n",
              "      <td>3892.0</td>\n",
              "      <td>3646.0</td>\n",
              "      <td>3399.0</td>\n",
              "      <td>3133.0</td>\n",
              "      <td>2834.0</td>\n",
              "      <td>2577.0</td>\n",
              "      <td>2309.0</td>\n",
              "      <td>2063.0</td>\n",
              "      <td>1800.0</td>\n",
              "      <td>1545.0</td>\n",
              "      <td>1279.0</td>\n",
              "      <td>1007.0</td>\n",
              "      <td>1247.0</td>\n",
              "      <td>1166.0</td>\n",
              "      <td>1096.0</td>\n",
              "      <td>974.0</td>\n",
              "      <td>902.0</td>\n",
              "      <td>806.0</td>\n",
              "      <td>790.0</td>\n",
              "      <td>668.0</td>\n",
              "      <td>570.0</td>\n",
              "      <td>468.0</td>\n",
              "      <td>394.0</td>\n",
              "      <td>322.0</td>\n",
              "    </tr>\n",
              "  </tbody>\n",
              "</table>\n",
              "</div>"
            ],
            "text/plain": [
              "   Unnamed: 0        well name  ...  water 11  water 12\n",
              "0           0  Tarragon 4-119H  ...     593.0     472.0\n",
              "1           1   Fennel 10-129H  ...      91.0      87.0\n",
              "2           2  Federal 14-113H  ...     266.0     213.0\n",
              "3           3      King 7-184H  ...     238.0     164.0\n",
              "4           4    Sundae 1-129H  ...     394.0     322.0\n",
              "\n",
              "[5 rows x 27 columns]"
            ]
          },
          "metadata": {
            "tags": []
          },
          "execution_count": 24
        }
      ]
    },
    {
      "cell_type": "markdown",
      "metadata": {
        "id": "y76Ysl2Wzfkf"
      },
      "source": [
        "Let's define our decline curves using our initial rate. We then pass these on to scipy.optimize.curve_fit and compute the L2 norm of the resulting fits (using the following equation): $$Error_{L2}=\\sum{|{q(t)-q_{obs}(t)}|^2}$$"
      ]
    },
    {
      "cell_type": "code",
      "metadata": {
        "colab": {
          "base_uri": "https://localhost:8080/"
        },
        "id": "liE3KwZrzfkg",
        "outputId": "26cfb693-72ec-4edd-99fe-561ae106e42e"
      },
      "source": [
        "# Decline curve function (using initial rate)\n",
        "exp_decline = decline_curve(\"exponential\", Q[0])\n",
        "hyp_decline = decline_curve(\"hyperbolic\", Q[0])\n",
        "har_decline = decline_curve(\"harmonic\", Q[0])\n",
        "\n",
        "# Store the optimized parameters for the fitted curves (T = time = x, Q = oil prod = y)\n",
        "popt_exp, _ = curve_fit(exp_decline, T, Q, method=\"trf\")\n",
        "popt_hyp, _ = curve_fit(hyp_decline, T, Q, method=\"trf\")\n",
        "popt_har, _ = curve_fit(har_decline, T, Q, method=\"trf\")\n",
        "\n",
        "print(\"L2 Norm of exponential decline       : \" + str(L2_norm(exp_decline(np.array(T), popt_exp[0]), Q)))\n",
        "print(\"L2 Norm of hyperbolic decline: \" + str(L2_norm(hyp_decline(np.array(T), popt_hyp[0], popt_hyp[1]), Q)))\n",
        "print(\"L2 Norm of harmonic decline decline  : \" + str(L2_norm(har_decline(np.array(T), popt_har[0]), Q)))\n",
        "\n",
        "L2_norms = [L2_norm(exp_decline(np.array(T), popt_exp[0]), Q), L2_norm(hyp_decline(np.array(T), popt_hyp[0], popt_hyp[1]), Q), L2_norm(har_decline(np.array(T), popt_har[0]), Q)]\n",
        "best_fit = L2_norms.index(min(L2_norms))"
      ],
      "execution_count": null,
      "outputs": [
        {
          "output_type": "stream",
          "text": [
            "L2 Norm of exponential decline       : 349578.4953459189\n",
            "L2 Norm of hyperbolic decline: 2210.868949459795\n",
            "L2 Norm of harmonic decline decline  : 980022.8883363877\n"
          ],
          "name": "stdout"
        },
        {
          "output_type": "execute_result",
          "data": {
            "text/plain": [
              "1"
            ]
          },
          "metadata": {
            "tags": []
          },
          "execution_count": 4
        }
      ]
    },
    {
      "cell_type": "markdown",
      "metadata": {
        "id": "HTTJX5cQzfkg"
      },
      "source": [
        "As we can see the hyperbolic decline fits the data much better than the other decline curves. Let's now visualise the results using matplotlib."
      ]
    },
    {
      "cell_type": "code",
      "metadata": {
        "id": "slz2kxeBzfkg",
        "colab": {
          "base_uri": "https://localhost:8080/",
          "height": 566
        },
        "outputId": "f599a5b9-caef-4e60-b631-ce942ddad650"
      },
      "source": [
        "fig, ax = plt.subplots(1, figsize=(8, 8))\n",
        "\n",
        "ax.set_title(\"Well Decline Curve Fitting\", fontsize=30)\n",
        "\n",
        "# Set size of tick labels\n",
        "label_size = 20\n",
        "yed = [tick.label.set_fontsize(label_size) for tick in ax.yaxis.get_major_ticks()]\n",
        "xed = [tick.label.set_fontsize(label_size) for tick in ax.xaxis.get_major_ticks()]\n",
        "\n",
        "ax.set_xlim(min(T), max(T))\n",
        "\n",
        "# Plot actual datapoints\n",
        "ax.scatter(T, Q, color=\"black\", marker=\"x\", s=100, linewidth=3)\n",
        "\n",
        "# Axis labels\n",
        "ax.set_xlabel(\"Time (months)\", fontsize=25)\n",
        "ax.set_ylabel(\"Oil Production\", fontsize=25)\n",
        "\n",
        "# Define the three prediction curves\n",
        "pred_exp = exp_decline(np.array(T), popt_exp[0]).tolist()\n",
        "pred_hyp = hyp_decline(np.array(T), popt_hyp[0], popt_hyp[1]).tolist()\n",
        "pred_har = har_decline(np.array(T), popt_har[0]).tolist()\n",
        "\n",
        "# Calculate min and max value for y-axis limits\n",
        "min_val = min([min(curve) for curve in [pred_exp, pred_hyp, pred_har]])\n",
        "max_val = max([max(curve) for curve in [pred_exp, pred_hyp, pred_har]])\n",
        "ax.set_ylim(min_val, max_val)\n",
        "\n",
        "# Plot the data\n",
        "ax.plot(T, pred_exp, color=\"red\", linewidth=5, alpha=0.5, label=\"Exponential\")\n",
        "ax.plot(T, pred_hyp, color=\"green\", linewidth=5, alpha=0.5, label=\"Hyperbolic\")\n",
        "ax.plot(T, pred_har, color=\"blue\", linewidth=5, alpha=0.5, label=\"Harmonic\")\n",
        "\n",
        "ax.legend(fontsize=25)"
      ],
      "execution_count": null,
      "outputs": [
        {
          "output_type": "execute_result",
          "data": {
            "text/plain": [
              "<matplotlib.legend.Legend at 0x7fb3306a11d0>"
            ]
          },
          "metadata": {
            "tags": []
          },
          "execution_count": 5
        },
        {
          "output_type": "display_data",
          "data": {
            "image/png": "[encoded data removed]",
            "text/plain": [
              "<Figure size 576x576 with 1 Axes>"
            ]
          },
          "metadata": {
            "tags": [],
            "needs_background": "light"
          }
        }
      ]
    },
    {
      "cell_type": "markdown",
      "metadata": {
        "id": "1JKzzBC8KbFV"
      },
      "source": [
        "Let's also visualize production predictions for the three curves over the next 36 months"
      ]
    },
    {
      "cell_type": "code",
      "metadata": {
        "id": "VoOJtxzVzfkg",
        "colab": {
          "base_uri": "https://localhost:8080/",
          "height": 382
        },
        "outputId": "1e382ef4-96b3-4048-a562-3627fb6ac1c6"
      },
      "source": [
        "fig, ax = plt.subplots(1, figsize=(8, 8))\n",
        "\n",
        "# Number of months for prediction\n",
        "T_max = 36.0\n",
        "T_pred = np.linspace(min(T), T_max)\n",
        "\n",
        "ax.set_title(\"Well Decline Curve Fitting\", fontsize=30)\n",
        "\n",
        "# Set size of tick labels\n",
        "label_size = 20\n",
        "yed = [tick.label.set_fontsize(label_size) for tick in ax.yaxis.get_major_ticks()]\n",
        "xed = [tick.label.set_fontsize(label_size) for tick in ax.xaxis.get_major_ticks()]\n",
        "\n",
        "ax.set_xlim(min(T), max(T_pred))\n",
        "\n",
        "# Plot actual datapoints\n",
        "ax.scatter(T, Q, color=\"black\", marker=\"x\", s=100, linewidth=3)\n",
        "ax.set_xlabel(\"Time (months)\", fontsize=25)\n",
        "ax.set_ylabel(\"Oil Rate\", fontsize=25)\n",
        "\n",
        "# Define the three prediction curves\n",
        "pred_exp = exp_decline(T_pred, popt_exp[0])\n",
        "pred_hyp = hyp_decline(T_pred, popt_hyp[0], popt_hyp[1])\n",
        "pred_har = har_decline(T_pred, popt_har[0])\n",
        "\n",
        "# Calculate min and max value for y-axis limits\n",
        "min_val = min([min(curve) for curve in [pred_exp, pred_hyp, pred_har]])\n",
        "max_val = max([max(curve) for curve in [pred_exp, pred_hyp, pred_har]])\n",
        "ax.set_ylim(min_val, max_val)\n",
        "\n",
        "# Plot the data\n",
        "ax.plot(T_pred, pred_exp, color=\"red\", linewidth=5, alpha=0.5, label=\"Exponential\")\n",
        "ax.plot(T_pred, pred_hyp, color=\"green\", linewidth=5, alpha=0.5, label=\"Hyperbolic\")\n",
        "ax.plot(T_pred, pred_har, color=\"blue\", linewidth=5, alpha=0.5, label=\"Harmonic\")\n",
        "ax.legend(fontsize=25)"
      ],
      "execution_count": null,
      "outputs": [
        {
          "output_type": "stream",
          "text": [
            "/usr/local/lib/python3.6/dist-packages/ipykernel_launcher.py:9: RuntimeWarning: invalid value encountered in power\n",
            "  if __name__ == '__main__':\n"
          ],
          "name": "stderr"
        },
        {
          "output_type": "execute_result",
          "data": {
            "text/plain": [
              "<matplotlib.legend.Legend at 0x7fb32e998630>"
            ]
          },
          "metadata": {
            "tags": []
          },
          "execution_count": 6
        },
        {
          "output_type": "display_data",
          "data": {
            "image/png": "[encoded data removed]",
            "text/plain": [
              "<Figure size 288x288 with 1 Axes>"
            ]
          },
          "metadata": {
            "tags": [],
            "needs_background": "light"
          }
        }
      ]
    },
    {
      "cell_type": "code",
      "metadata": {
        "colab": {
          "base_uri": "https://localhost:8080/"
        },
        "id": "zXMHIjrkDQGb",
        "outputId": "f651549f-9b1d-4ac2-e4dc-a1bb6ad49c9f"
      },
      "source": [
        "# Store the prediction curves\n",
        "pred_curves = [pred_exp, pred_hyp, pred_har]\n",
        "\n",
        "# Oil threshold - monthly production at which drilling is no longer viable\n",
        "oil_threshold = 35\n",
        "\n",
        "# Estimate cumulative oil production (until oil threshold is reached)\n",
        "last_month = next(month for month, pred_oil in enumerate(pred_curves[best_fit]) if pred_oil < oil_threshold or math.isnan(pred_oil)) - 1 # This is the last month oil drilling is profitable\n",
        "\n",
        "# Print cumulative production estimate for the optimally fitted curve\n",
        "curve_fit_names = ['exponential', 'hyperbolic', 'harmonic']\n",
        "print('Cumulative production estimate ' + 'using a(n) ' + curve_fit_names[best_fit] + ' decline curve over ' + str(last_month) + ' months: ' + str(np.sum(pred_curves[best_fit][0:last_month+1]))) # Left Riemann sum to estimate integral of optimally fitted production curve"
      ],
      "execution_count": null,
      "outputs": [
        {
          "output_type": "stream",
          "text": [
            "Cumulative production estimate using a(n) hyperbolic decline curve over 19 months: 41288.07601336715\n"
          ],
          "name": "stdout"
        }
      ]
    },
    {
      "cell_type": "markdown",
      "metadata": {
        "id": "StawzcMATLKT"
      },
      "source": [
        "# Production Estimation and Proppant/Pump Averaging for all Wells"
      ]
    },
    {
      "cell_type": "code",
      "metadata": {
        "colab": {
          "base_uri": "https://localhost:8080/"
        },
        "id": "dYY-1VjhTS2r",
        "outputId": "6e29d41e-1a2d-409b-9873-2a47970f373c"
      },
      "source": [
        "df = pd.read_csv(r'well production.csv')\n",
        "well_names = []\n",
        "well_productions = []\n",
        "\n",
        "for i in range(0, len(df)):\n",
        "    Q = df.loc[i][3:15] # oil prod\n",
        "    # Convert elements to floats\n",
        "    T = [float(x) for x in range(0, 12, 1)] # months: [1.0, 2.0, 3.0, 4.0, 5.0, 6.0, 7.0, 8.0, 9.0, 10.0, 11.0, 12.0]\n",
        "    Q = [float(x) for x in Q]\n",
        "    # Decline curve function (using initial rate)\n",
        "    exp_decline = decline_curve(\"exponential\", Q[0])\n",
        "    hyp_decline = decline_curve(\"hyperbolic\", Q[0])\n",
        "    har_decline = decline_curve(\"harmonic\", Q[0])\n",
        "\n",
        "    # Store the optimized parameters for the fitted curves (T = time = x, Q = oil prod = y)\n",
        "    popt_exp, _ = curve_fit(exp_decline, T, Q, method=\"trf\")\n",
        "    popt_hyp, _ = curve_fit(hyp_decline, T, Q, method=\"trf\")\n",
        "    popt_har, _ = curve_fit(har_decline, T, Q, method=\"trf\")\n",
        "\n",
        "    # Calculate L2 norms and decide best fitting curve\n",
        "    L2_norms = [L2_norm(exp_decline(np.array(T), popt_exp[0]), Q), L2_norm(hyp_decline(np.array(T), popt_hyp[0], popt_hyp[1]), Q), L2_norm(har_decline(np.array(T), popt_har[0]), Q)]\n",
        "    best_fit = L2_norms.index(min(L2_norms))\n",
        "\n",
        "    # Define the three prediction curves\n",
        "    T_max = 36.0\n",
        "    T_pred = np.linspace(min(T), T_max)\n",
        "    pred_exp = exp_decline(T_pred, popt_exp[0])\n",
        "    pred_hyp = hyp_decline(T_pred, popt_hyp[0], popt_hyp[1])\n",
        "    pred_har = har_decline(T_pred, popt_har[0])\n",
        "\n",
        "    # Store the prediction curves\n",
        "    pred_curves = [pred_exp, pred_hyp, pred_har]\n",
        "\n",
        "    # Oil threshold - monthly production at which drilling is no longer viable\n",
        "    oil_threshold = 35\n",
        "\n",
        "    # Estimate cumulative oil production (until oil threshold is reached)\n",
        "    last_month = next(month for month, pred_oil in enumerate(pred_curves[best_fit]) if pred_oil < oil_threshold or math.isnan(pred_oil)) - 1 # This is the last month oil drilling is profitable\n",
        "    # Add the estimates, along with the name of the well, to lists (later used in dataframe creation)\n",
        "    well_names.append(df.loc[i][1])\n",
        "    well_productions.append(np.sum(pred_curves[best_fit][0:last_month+1]))"
      ],
      "execution_count": 19,
      "outputs": [
        {
          "output_type": "stream",
          "text": [
            "/usr/local/lib/python3.6/dist-packages/ipykernel_launcher.py:9: RuntimeWarning: invalid value encountered in power\n",
            "  if __name__ == '__main__':\n"
          ],
          "name": "stderr"
        }
      ]
    },
    {
      "cell_type": "code",
      "metadata": {
        "id": "vqpXyp1cpYnz"
      },
      "source": [
        "avg_proppant = []\n",
        "avg_pump = []\n",
        "for well_file in os.listdir('well production'):\n",
        "    count = 0\n",
        "    prop = 0\n",
        "    pump = 0\n",
        "    well_file_df = pd.read_csv(os.path.join('well production', well_file))\n",
        "    for i in range(0, len(well_file_df)):\n",
        "        if (not math.isnan(well_file_df.loc[i]['proppant weight (lbs)'])):\n",
        "            count += 1\n",
        "            prop += well_file_df.loc[i]['proppant weight (lbs)']\n",
        "            pump += well_file_df.loc[i]['pump rate (cubic feet/min)']\n",
        "    avg_proppant.append(prop/count)\n",
        "    avg_pump.append(pump/count)"
      ],
      "execution_count": 20,
      "outputs": []
    },
    {
      "cell_type": "code",
      "metadata": {
        "id": "btRR2H99JiDb",
        "colab": {
          "base_uri": "https://localhost:8080/",
          "height": 204
        },
        "outputId": "3f08cb91-3a5f-4e93-d6d0-fe2fba045e33"
      },
      "source": [
        "# Generate a csv file with the production data for each well\n",
        "well_data = {'well name': well_names, 'avg proppant weight': avg_proppant, 'avg pump rate': avg_pump, 'pred production': well_productions}\n",
        "well_df = pd.DataFrame(data=well_data)\n",
        "well_df.to_csv(r'well_data.csv', index = False)\n",
        "well_df.tail()"
      ],
      "execution_count": 23,
      "outputs": [
        {
          "output_type": "execute_result",
          "data": {
            "text/html": [
              "<div>\n",
              "<style scoped>\n",
              "    .dataframe tbody tr th:only-of-type {\n",
              "        vertical-align: middle;\n",
              "    }\n",
              "\n",
              "    .dataframe tbody tr th {\n",
              "        vertical-align: top;\n",
              "    }\n",
              "\n",
              "    .dataframe thead th {\n",
              "        text-align: right;\n",
              "    }\n",
              "</style>\n",
              "<table border=\"1\" class=\"dataframe\">\n",
              "  <thead>\n",
              "    <tr style=\"text-align: right;\">\n",
              "      <th></th>\n",
              "      <th>well name</th>\n",
              "      <th>avg proppant weight</th>\n",
              "      <th>avg pump rate</th>\n",
              "      <th>pred production</th>\n",
              "    </tr>\n",
              "  </thead>\n",
              "  <tbody>\n",
              "    <tr>\n",
              "      <th>95</th>\n",
              "      <td>Burger 6-148H</td>\n",
              "      <td>734839.237574</td>\n",
              "      <td>295.729046</td>\n",
              "      <td>31928.721702</td>\n",
              "    </tr>\n",
              "    <tr>\n",
              "      <th>96</th>\n",
              "      <td>King 14-184H</td>\n",
              "      <td>871618.753545</td>\n",
              "      <td>300.345427</td>\n",
              "      <td>34574.388904</td>\n",
              "    </tr>\n",
              "    <tr>\n",
              "      <th>97</th>\n",
              "      <td>Tribal 14-4H</td>\n",
              "      <td>853197.060783</td>\n",
              "      <td>297.694954</td>\n",
              "      <td>9230.306747</td>\n",
              "    </tr>\n",
              "    <tr>\n",
              "      <th>98</th>\n",
              "      <td>Pikachu 13-133H</td>\n",
              "      <td>834045.771760</td>\n",
              "      <td>305.935717</td>\n",
              "      <td>8286.056491</td>\n",
              "    </tr>\n",
              "    <tr>\n",
              "      <th>99</th>\n",
              "      <td>Golden 8-14H</td>\n",
              "      <td>610803.226386</td>\n",
              "      <td>303.103218</td>\n",
              "      <td>27828.256233</td>\n",
              "    </tr>\n",
              "  </tbody>\n",
              "</table>\n",
              "</div>"
            ],
            "text/plain": [
              "          well name  avg proppant weight  avg pump rate  pred production\n",
              "95    Burger 6-148H        734839.237574     295.729046     31928.721702\n",
              "96     King 14-184H        871618.753545     300.345427     34574.388904\n",
              "97     Tribal 14-4H        853197.060783     297.694954      9230.306747\n",
              "98  Pikachu 13-133H        834045.771760     305.935717      8286.056491\n",
              "99     Golden 8-14H        610803.226386     303.103218     27828.256233"
            ]
          },
          "metadata": {
            "tags": []
          },
          "execution_count": 23
        }
      ]
    }
  ]
}